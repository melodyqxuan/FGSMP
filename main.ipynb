{
 "cells": [
  {
   "cell_type": "code",
   "execution_count": 56,
   "metadata": {},
   "outputs": [],
   "source": [
    "import numpy as np\n",
    "import pandas as pd\n",
    "import json\n",
    "import nltk\n",
    "from data_utils import *\n",
    "import torch.utils.data as data \n",
    "import time\n",
    "import torch"
   ]
  },
  {
   "cell_type": "code",
   "execution_count": 57,
   "metadata": {},
   "outputs": [],
   "source": [
    "def pretty_print(epoch, loss):\n",
    "    print('Epoch {} completed with loss {:.4f}'.format(epoch + 1, loss * (0.9 ** epoch)))"
   ]
  },
  {
   "cell_type": "code",
   "execution_count": 58,
   "metadata": {},
   "outputs": [],
   "source": [
    "with open('data.json') as f:\n",
    "    dataset = json.load(f)"
   ]
  },
  {
   "cell_type": "code",
   "execution_count": 59,
   "metadata": {},
   "outputs": [
    {
     "name": "stdout",
     "output_type": "stream",
     "text": [
      "Vocabulary built in 0.4098 sec, with size: 6326\n"
     ]
    }
   ],
   "source": [
    "vocab = BuildVocab()\n",
    "start = time.time()\n",
    "for i in range(len(dataset)):\n",
    "    text = TextToSentences(dataset[i]['news'].lower())\n",
    "    vocab.addText(text)\n",
    "print('Vocabulary built in {:.4f} sec, with size: {}'.format(time.time() - start, vocab.n_words))"
   ]
  },
  {
   "cell_type": "code",
   "execution_count": 60,
   "metadata": {},
   "outputs": [
    {
     "name": "stdout",
     "output_type": "stream",
     "text": [
      "POS built in 0.0004 sec, with size: 18\n"
     ]
    }
   ],
   "source": [
    "pos = BuildPOS()\n",
    "start = time.time()\n",
    "for i in range(len(dataset)):\n",
    "    p = dataset[i]['pos']\n",
    "    pos.addPOS(p)\n",
    "print('POS built in {:.4f} sec, with size: {}'.format(time.time() - start, pos.npos))"
   ]
  },
  {
   "cell_type": "code",
   "execution_count": 61,
   "metadata": {},
   "outputs": [],
   "source": [
    "class StockPredictionDataset(data.Dataset):\n",
    "    def __init__(self, dataset, vocab, pos):\n",
    "        self.data = dataset\n",
    "        self.vocab = vocab\n",
    "        self.pos = pos\n",
    "    \n",
    "    def __len__(self):\n",
    "        return len(self.data)\n",
    "    \n",
    "    def __getitem__(self, i):\n",
    "        news_, pos_, stock_ = self.data[i]['news'], self.data[i]['pos'], self.data[i]['stock']\n",
    "        news_ = torch.Tensor(self.process_sent(news_)).long()\n",
    "        pos_ = torch.Tensor(self.process_pos(news_, pos_)).long()\n",
    "        stock_ = np.array(stock_)\n",
    "        y = int(np.sum((stock_[-1,:6] - stock_[-2,:6])) > 0) if len(stock_) >= 2 else 1\n",
    "        stock_ = torch.Tensor(stock_)\n",
    "        return news_, pos_, stock_, y\n",
    "    \n",
    "    def process_sent(self, sent):\n",
    "        tokens = nltk.word_tokenize(sent.lower())\n",
    "        out = []\n",
    "        out.append(self.vocab.word2index['<SOS>'])\n",
    "        out.extend([self.vocab.word2index[token] for token in tokens if token in self.vocab.word2index])\n",
    "        out.append(self.vocab.word2index['<EOS>'])\n",
    "        return out\n",
    "    \n",
    "    def process_pos(self, sent, pos):\n",
    "        out = [self.pos.pos2index['<SOS>']]\n",
    "        out.extend([self.pos.pos2index[token] for token in pos])\n",
    "        if len(sent) <= (len(pos) + 1):\n",
    "            pos = pos[:len(sent) - 2]\n",
    "        out.extend([self.pos.pos2index[pos[-1]] for _ in range(len(sent) - len(pos) - 2) ])\n",
    "        out.append(self.pos.pos2index['<EOS>'])\n",
    "        return out\n",
    "            "
   ]
  },
  {
   "cell_type": "code",
   "execution_count": 62,
   "metadata": {},
   "outputs": [],
   "source": [
    "def collate_fn(data):\n",
    "    def merge(sequences, is_token):\n",
    "        lengths = [len(seq) for seq in sequences]\n",
    "        if is_token:\n",
    "            padded_seqs = torch.zeros(len(sequences), max(lengths)).long()\n",
    "        else:\n",
    "            padded_seqs = torch.zeros(len(sequences), max(lengths), 120)\n",
    "        for i, seq in enumerate(sequences):\n",
    "            end = lengths[i]\n",
    "            if end == 0:\n",
    "                continue\n",
    "            padded_seqs[i,:end] = seq[:]\n",
    "        return padded_seqs, lengths\n",
    "              \n",
    "    news, pos, stock, y = [], [], [], []\n",
    "    for i, (news_i, pos_i, stock_i, y_i) in enumerate(data):\n",
    "        news.append(news_i)\n",
    "        pos.append(pos_i)\n",
    "        stock.append(stock_i)\n",
    "        y.append(y_i)\n",
    "    news.sort(key = lambda x: len(x), reverse=True)\n",
    "    pos.sort(key = lambda x: len(x), reverse=True)\n",
    "    stock.sort(key = lambda x: len(x), reverse=True)\n",
    "    news, news_lengths = merge(news, True)\n",
    "    pos, _ = merge(pos, True)\n",
    "    stock, stock_lengths = merge(stock, False)\n",
    "    y = torch.Tensor(y)\n",
    "    return news, pos, stock, y, news_lengths, stock_lengths\n",
    "    "
   ]
  },
  {
   "cell_type": "code",
   "execution_count": 63,
   "metadata": {},
   "outputs": [],
   "source": [
    "dataset = StockPredictionDataset(dataset, vocab, pos)\n",
    "dataloader = torch.utils.data.DataLoader(dataset = dataset, batch_size=64, shuffle=True, collate_fn=collate_fn)"
   ]
  },
  {
   "cell_type": "code",
   "execution_count": 64,
   "metadata": {},
   "outputs": [],
   "source": [
    "from model import SSPM, MSSPM\n",
    "import torch.nn as nn"
   ]
  },
  {
   "cell_type": "code",
   "execution_count": 65,
   "metadata": {},
   "outputs": [],
   "source": [
    "word_emb_dim = 256\n",
    "hidden_dim = 256\n",
    "vocab_size = vocab.n_words\n",
    "event_size = pos.npos\n",
    "num_heads = 4\n",
    "num_epochs = 10\n",
    "criterion = nn.BCELoss()"
   ]
  },
  {
   "cell_type": "code",
   "execution_count": 66,
   "metadata": {},
   "outputs": [
    {
     "name": "stdout",
     "output_type": "stream",
     "text": [
      "Epoch 1 completed with loss 0.5446\n",
      "Epoch 2 completed with loss 0.7044\n",
      "Epoch 3 completed with loss 0.6008\n",
      "Epoch 4 completed with loss 0.4893\n",
      "Epoch 5 completed with loss 0.4904\n",
      "Epoch 6 completed with loss 0.3683\n",
      "Epoch 7 completed with loss 0.4055\n",
      "Epoch 8 completed with loss 0.3225\n",
      "Epoch 9 completed with loss 0.2598\n",
      "Epoch 10 completed with loss 0.2482\n"
     ]
    }
   ],
   "source": [
    "model = SSPM(vocab_size, word_emb_dim, hidden_dim, event_size, num_heads)\n",
    "model.cuda()\n",
    "optimizer = torch.optim.SGD(model.parameters(), lr=1e-2)\n",
    "\n",
    "for e in range(num_epochs):\n",
    "    for i, (news, pos, stock, y, sent_lengths, stock_lengths) in enumerate(dataloader):\n",
    "        bsize = len(news)\n",
    "        for i in range(bsize):\n",
    "            if sent_lengths[i] == 0:\n",
    "                sent_lengths[i] += 1\n",
    "            elif stock_lengths[i] == 0:\n",
    "                stock_lengths[i] += 1\n",
    "        optimizer.zero_grad()\"\"\"\n",
    "        news = news.cuda()\n",
    "        pos = pos.cuda()\n",
    "        stock = stock.cuda()\n",
    "        y = y.cuda().view(-1, 1)\n",
    "        probs = model(news, pos, stock, sent_lengths, stock_lengths)\n",
    "        loss = criterion(probs, y)\n",
    "        loss.backward()\n",
    "        optimizer.step()\n",
    "    pretty_print(e, loss.item())      "
   ]
  },
  {
   "cell_type": "code",
   "execution_count": 54,
   "metadata": {},
   "outputs": [],
   "source": [
    "word_emb_dim = 256\n",
    "hidden_dim = 256\n",
    "vocab_size = vocab.n_words\n",
    "event_size = pos.npos\n",
    "num_heads = 4\n",
    "num_epochs = 10\n",
    "eta = 0.5\n",
    "criterion = nn.BCELoss()"
   ]
  },
  {
   "cell_type": "code",
   "execution_count": 55,
   "metadata": {},
   "outputs": [
    {
     "name": "stdout",
     "output_type": "stream",
     "text": [
      "Epoch 1 completed with loss 3.0225\n",
      "Epoch 2 completed with loss 2.1889\n",
      "Epoch 3 completed with loss 2.4880\n",
      "Epoch 4 completed with loss 2.1528\n",
      "Epoch 5 completed with loss 1.5973\n",
      "Epoch 6 completed with loss 1.6378\n",
      "Epoch 7 completed with loss 1.5195\n",
      "Epoch 8 completed with loss 1.3947\n",
      "Epoch 9 completed with loss 1.2478\n",
      "Epoch 10 completed with loss 1.0738\n"
     ]
    }
   ],
   "source": [
    "model = MSSPM(vocab_size, word_emb_dim, hidden_dim, event_size, num_heads)\n",
    "model.cuda()\n",
    "optimizer = torch.optim.SGD(model.parameters(), lr=1e-2)\n",
    "for e in range(num_epochs):\n",
    "    for i, (news, pos, stock, y, sent_lengths, stock_lengths) in enumerate(dataloader):\n",
    "        bsize = len(news)\n",
    "        for i in range(bsize):\n",
    "            if sent_lengths[i] == 0:\n",
    "                sent_lengths[i] += 1\n",
    "            elif stock_lengths[i] == 0:\n",
    "                stock_lengths[i] += 1\n",
    "        optimizer.zero_grad()\n",
    "        news = news.cuda()\n",
    "        pos = pos.cuda()\n",
    "        stock = stock.cuda()\n",
    "        y = y.cuda().view(-1, 1)\n",
    "        probs, loss_crf = model(news, pos, stock, sent_lengths, stock_lengths)\n",
    "        loss_bce = criterion(probs, y)\n",
    "        loss = eta * loss_bce + (1 - eta) * loss_crf\n",
    "        loss.backward()\n",
    "        optimizer.step()\n",
    "    pretty_print(e, loss.item())     "
   ]
  }
 ],
 "metadata": {
  "kernelspec": {
   "display_name": "Python 3",
   "language": "python",
   "name": "python3"
  },
  "language_info": {
   "codemirror_mode": {
    "name": "ipython",
    "version": 3
   },
   "file_extension": ".py",
   "mimetype": "text/x-python",
   "name": "python",
   "nbconvert_exporter": "python",
   "pygments_lexer": "ipython3",
   "version": "3.8.5"
  }
 },
 "nbformat": 4,
 "nbformat_minor": 4
}
